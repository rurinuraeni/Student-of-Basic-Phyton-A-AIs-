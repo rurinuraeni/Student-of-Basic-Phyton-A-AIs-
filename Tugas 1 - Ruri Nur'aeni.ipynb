{
 "cells": [
  {
   "cell_type": "markdown",
   "id": "dfb43405",
   "metadata": {},
   "source": [
    "# Soal 1"
   ]
  },
  {
   "cell_type": "code",
   "execution_count": 12,
   "id": "2b2fda52",
   "metadata": {},
   "outputs": [
    {
     "name": "stdout",
     "output_type": "stream",
     "text": [
      "Nama: Farhan\n",
      "Umur: 23\n",
      "Tinggi: 167.5\n",
      "Nama saya Farhan, umur saya 23 tahun dan tinggi saya 167.5 cm\n"
     ]
    }
   ],
   "source": [
    "nama = input('Nama: ')\n",
    "umur = int(input('Umur: '))\n",
    "tinggi = float(input('Tinggi: '))\n",
    "text = 'Nama saya'+' '+nama+','+' '+'umur saya'+' '+str(umur)+' '+'tahun'+' '+'dan tinggi saya'+' '+str(tinggi)+' '+'cm'\n",
    "print(text)"
   ]
  },
  {
   "cell_type": "code",
   "execution_count": 13,
   "id": "5f35ebe7",
   "metadata": {},
   "outputs": [
    {
     "name": "stdout",
     "output_type": "stream",
     "text": [
      "<class 'str'>\n",
      "<class 'int'>\n",
      "<class 'float'>\n"
     ]
    }
   ],
   "source": [
    "print(type(nama))\n",
    "print(type(umur))\n",
    "print(type(tinggi))"
   ]
  },
  {
   "cell_type": "markdown",
   "id": "681445f2",
   "metadata": {},
   "source": [
    "# Soal 2"
   ]
  },
  {
   "cell_type": "code",
   "execution_count": 14,
   "id": "fc544196",
   "metadata": {},
   "outputs": [
    {
     "name": "stdout",
     "output_type": "stream",
     "text": [
      "3.142857142857143\n"
     ]
    }
   ],
   "source": [
    "π = 22/7\n",
    "print(π)"
   ]
  },
  {
   "cell_type": "code",
   "execution_count": 19,
   "id": "cc6e0fb4",
   "metadata": {},
   "outputs": [
    {
     "name": "stdout",
     "output_type": "stream",
     "text": [
      "Jari-jari lingkaran: 7\n",
      "Luas lingkaran dengan jari-jari 7.0 cm adalah 154.0 cm²\n"
     ]
    }
   ],
   "source": [
    "π = 22/7\n",
    "r = float(input('Jari-jari lingkaran: '))\n",
    "b=2\n",
    "luas =π*r**b\n",
    "text= 'Luas lingkaran dengan jari-jari'+' '+str(r)+' '+'cm adalah'+' '+str(luas)+' '+'cm'+'\\u00b2'\n",
    "print(text)\n"
   ]
  },
  {
   "cell_type": "code",
   "execution_count": 20,
   "id": "69e7580b",
   "metadata": {},
   "outputs": [
    {
     "name": "stdout",
     "output_type": "stream",
     "text": [
      "<class 'float'>\n",
      "<class 'float'>\n",
      "<class 'int'>\n",
      "<class 'float'>\n",
      "<class 'str'>\n"
     ]
    }
   ],
   "source": [
    "print(type(π))\n",
    "print(type(r))\n",
    "print(type(b))\n",
    "print(type(luas))\n",
    "print(type(text))"
   ]
  },
  {
   "cell_type": "markdown",
   "id": "22bd2606",
   "metadata": {},
   "source": [
    "# Soal 2 Bonus"
   ]
  },
  {
   "cell_type": "code",
   "execution_count": 23,
   "id": "65c20feb",
   "metadata": {},
   "outputs": [
    {
     "name": "stdout",
     "output_type": "stream",
     "text": [
      "Jari-jari lingkaran: 10\n",
      "314.29\n"
     ]
    }
   ],
   "source": [
    "π = 22/7\n",
    "r = float(input('Jari-jari lingkaran: '))\n",
    "b=2\n",
    "luas =π*r**b\n",
    "text= 'Luas lingkaran dengan jari-jari'+' '+str(r)+' '+'cm adalah'+' '+str(luas)+' '+'cm'+'\\u00b2'\n",
    "print('{:.2f}'.format(luas))"
   ]
  },
  {
   "cell_type": "markdown",
   "id": "6fda7bb1",
   "metadata": {},
   "source": [
    "# Soal 3"
   ]
  },
  {
   "cell_type": "markdown",
   "id": "adfbe586",
   "metadata": {},
   "source": [
    "## Hasil Kelulusan"
   ]
  },
  {
   "cell_type": "code",
   "execution_count": 59,
   "id": "b3bc33db",
   "metadata": {},
   "outputs": [
    {
     "name": "stdout",
     "output_type": "stream",
     "text": [
      "Nilai Ujian Teori: 70\n",
      "Nilai Ujian Praktek: 70\n",
      "Selamat, anda lulus!\n"
     ]
    }
   ],
   "source": [
    "nilai1 = int(input('Nilai Ujian Teori: '))\n",
    "nilai2 = int(input('Nilai Ujian Praktek: '))\n",
    "\n",
    "\n",
    "if nilai1>=70  & nilai2>=70:\n",
    "    print('Selamat, anda lulus!')\n",
    "elif nilai1>=70  & nilai2<70:\n",
    "    print('Anda harus mengulang ujian praktek.')\n",
    "elif nilai1<70  & nilai2>=70:\n",
    "    print('Anda harus mengulang ujian teori.')\n",
    "elif nilai1<70 & nilai2<70:\n",
    "    print('Anda harus mengulang ujian teori dan praktek.')\n",
    "else:\n",
    "    print('other')"
   ]
  },
  {
   "cell_type": "code",
   "execution_count": 46,
   "id": "67ea9b64",
   "metadata": {},
   "outputs": [
    {
     "name": "stdout",
     "output_type": "stream",
     "text": [
      "<class 'int'>\n"
     ]
    }
   ],
   "source": [
    "print(type(70))"
   ]
  },
  {
   "cell_type": "code",
   "execution_count": 3,
   "id": "3fe618df",
   "metadata": {},
   "outputs": [
    {
     "name": "stdout",
     "output_type": "stream",
     "text": [
      "Nilai Ujian Teori: 80.5\n",
      "Nilai Ujian Praktek: 60.5\n",
      "Anda harus mengulang ujian praktek.\n"
     ]
    }
   ],
   "source": [
    "nilai1 = float(input('Nilai Ujian Teori: '))\n",
    "nilai2 = float(input('Nilai Ujian Praktek: '))\n",
    "minimal = 70.5\n",
    "\n",
    "if nilai1 >= minimal and nilai2 >= minimal:\n",
    "    print('Selamat, anda lulus!')\n",
    "elif nilai1<minimal and nilai2>=minimal:\n",
    "    print('Anda harus mengulang ujian teori.')\n",
    "elif nilai2<minimal and nilai1>=minimal:\n",
    "    print('Anda harus mengulang ujian praktek.')\n",
    "elif nilai1 < minimal and nilai2 < minimal:\n",
    "    print('Anda harus mengulang ujian teori dan praktek.')\n"
   ]
  },
  {
   "cell_type": "code",
   "execution_count": 115,
   "id": "109afc18",
   "metadata": {},
   "outputs": [
    {
     "data": {
      "text/plain": [
       "5"
      ]
     },
     "execution_count": 115,
     "metadata": {},
     "output_type": "execute_result"
    }
   ],
   "source": [
    "nilai1=10\n",
    "nilai2=5\n",
    "(nilai1 and nilai2)\n"
   ]
  },
  {
   "cell_type": "code",
   "execution_count": 123,
   "id": "3873f801",
   "metadata": {},
   "outputs": [
    {
     "name": "stdout",
     "output_type": "stream",
     "text": [
      "Nilai Ujian Teori: 10\n",
      "Nilai Ujian Praktek: 0\n",
      "ulang semua\n"
     ]
    }
   ],
   "source": [
    "nilai1 = int(input('Nilai Ujian Teori: '))\n",
    "nilai2 = int(input('Nilai Ujian Praktek: '))\n",
    "minimal = 70\n",
    "\n",
    "if nilai1 >= minimal:\n",
    "    if nilai2 >= minimal:\n",
    "        print(\"lulus\")\n",
    "    else:\n",
    "        print(\"ulang praktik\")\n",
    "else:\n",
    "    if nilai2 >= minimal:\n",
    "        print('ulang teori')\n",
    "    else:\n",
    "        print('ulang semua')\n",
    "    "
   ]
  },
  {
   "cell_type": "code",
   "execution_count": null,
   "id": "76171d0e",
   "metadata": {},
   "outputs": [],
   "source": []
  }
 ],
 "metadata": {
  "kernelspec": {
   "display_name": "Python 3",
   "language": "python",
   "name": "python3"
  },
  "language_info": {
   "codemirror_mode": {
    "name": "ipython",
    "version": 3
   },
   "file_extension": ".py",
   "mimetype": "text/x-python",
   "name": "python",
   "nbconvert_exporter": "python",
   "pygments_lexer": "ipython3",
   "version": "3.8.8"
  }
 },
 "nbformat": 4,
 "nbformat_minor": 5
}
